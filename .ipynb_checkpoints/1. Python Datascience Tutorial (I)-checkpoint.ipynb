{
 "cells": [
  {
   "cell_type": "markdown",
   "metadata": {},
   "source": [
    "## Python Set Up for Data Science ##"
   ]
  },
  {
   "cell_type": "markdown",
   "metadata": {},
   "source": [
    "<font color=green>***Step 1. Load all the necessary packages for Data Science Projects***</font>\n",
    "\n",
    "> - numpy :\n",
    "> - pandas :\n",
    "> - matplotlib :\n",
    "> - seaborn :\n",
    "> - sklearn :\n",
    "> - scipy.stats :\n",
    "> - seaborn :"
   ]
  },
  {
   "cell_type": "code",
   "execution_count": null,
   "metadata": {
    "slideshow": {
     "slide_type": "slide"
    }
   },
   "outputs": [],
   "source": [
    "#package install\n",
    "import numpy as np\n",
    "import pandas as pd\n",
    "import pandasql as ps #allows you to run SQL on dataframe objects\n",
    "import statsmodels.api as sm\n",
    "import statsmodels.formula.api as smf\n",
    "import scipy.stats as stats\n",
    "import matplotlib.pyplot as plt\n",
    "from pylab import rcParams\n",
    "\n",
    "import sklearn\n",
    "from sklearn.linear_model import LinearRegression\n",
    "from sklearn.preprocessing import scale\n",
    "from collections import Counter\n",
    "\n",
    "import warnings\n",
    "warnings.filterwarnings(\"ignore\")\n",
    "\n",
    "#pd.options.display.float_format = '{:,.0f}'.format \n",
    "pd.options.display.float_format = '{:,.3f}'.format #upto 3 decimal points\n",
    "\n",
    "%matplotlib inline\n",
    "\n",
    "import seaborn as sns\n",
    "from statsmodels.graphics.gofplots import ProbPlot\n",
    "from sklearn import datasets, linear_model\n",
    "from sklearn.metrics import mean_squared_error, r2_score\n",
    "\n",
    "plt.style.use('seaborn') # pretty matplotlib plots\n",
    "plt.rc('font', size=14)\n",
    "plt.rc('figure', titlesize=18)\n",
    "plt.rc('axes', labelsize=15)\n",
    "plt.rc('axes', titlesize=18)"
   ]
  },
  {
   "cell_type": "markdown",
   "metadata": {
    "slideshow": {
     "slide_type": "slide"
    }
   },
   "source": [
    "## Load and Import Extracting Datasets ##"
   ]
  },
  {
   "cell_type": "markdown",
   "metadata": {},
   "source": [
    "- *CSV*\n",
    "- *Excel*\n",
    "- *Text file*\n",
    "- *Extract data from Website*"
   ]
  },
  {
   "cell_type": "code",
   "execution_count": 8,
   "metadata": {
    "slideshow": {
     "slide_type": "slide"
    }
   },
   "outputs": [
    {
     "data": {
      "text/html": [
       "<div>\n",
       "<style scoped>\n",
       "    .dataframe tbody tr th:only-of-type {\n",
       "        vertical-align: middle;\n",
       "    }\n",
       "\n",
       "    .dataframe tbody tr th {\n",
       "        vertical-align: top;\n",
       "    }\n",
       "\n",
       "    .dataframe thead th {\n",
       "        text-align: right;\n",
       "    }\n",
       "</style>\n",
       "<table border=\"1\" class=\"dataframe\">\n",
       "  <thead>\n",
       "    <tr style=\"text-align: right;\">\n",
       "      <th></th>\n",
       "      <th>PeriodStart</th>\n",
       "      <th>PeriodEnd</th>\n",
       "      <th>Area</th>\n",
       "      <th>NumberOfCasesCommenced</th>\n",
       "      <th>NumberOfSuccessfulCases</th>\n",
       "      <th>CompaniesOrIndividualsSuccessfullyProsecuted</th>\n",
       "      <th>InfFilesCoveredBySuccessfulCases</th>\n",
       "      <th>TotalFines</th>\n",
       "      <th>TotalCosts</th>\n",
       "    </tr>\n",
       "  </thead>\n",
       "  <tbody>\n",
       "    <tr>\n",
       "      <th>0</th>\n",
       "      <td>2000-04-01</td>\n",
       "      <td>2001-03-31</td>\n",
       "      <td>food hygiene / safety</td>\n",
       "      <td>4</td>\n",
       "      <td>4</td>\n",
       "      <td>4</td>\n",
       "      <td>4</td>\n",
       "      <td>8500</td>\n",
       "      <td>1,914</td>\n",
       "    </tr>\n",
       "    <tr>\n",
       "      <th>1</th>\n",
       "      <td>2000-04-01</td>\n",
       "      <td>2001-03-31</td>\n",
       "      <td>animal welfare</td>\n",
       "      <td>0</td>\n",
       "      <td>0</td>\n",
       "      <td>0</td>\n",
       "      <td>0</td>\n",
       "      <td>0</td>\n",
       "      <td>0</td>\n",
       "    </tr>\n",
       "    <tr>\n",
       "      <th>2</th>\n",
       "      <td>2001-04-01</td>\n",
       "      <td>2002-03-31</td>\n",
       "      <td>food hygiene / safety</td>\n",
       "      <td>13</td>\n",
       "      <td>12</td>\n",
       "      <td>11</td>\n",
       "      <td>12</td>\n",
       "      <td>12070</td>\n",
       "      <td>11,436</td>\n",
       "    </tr>\n",
       "    <tr>\n",
       "      <th>3</th>\n",
       "      <td>2001-04-01</td>\n",
       "      <td>2002-03-31</td>\n",
       "      <td>animal welfare</td>\n",
       "      <td>0</td>\n",
       "      <td>0</td>\n",
       "      <td>0</td>\n",
       "      <td>0</td>\n",
       "      <td>0</td>\n",
       "      <td>0</td>\n",
       "    </tr>\n",
       "    <tr>\n",
       "      <th>4</th>\n",
       "      <td>2002-04-01</td>\n",
       "      <td>2003-03-31</td>\n",
       "      <td>food hygiene / safety</td>\n",
       "      <td>9</td>\n",
       "      <td>5</td>\n",
       "      <td>5</td>\n",
       "      <td>7</td>\n",
       "      <td>17000</td>\n",
       "      <td>22,945</td>\n",
       "    </tr>\n",
       "  </tbody>\n",
       "</table>\n",
       "</div>"
      ],
      "text/plain": [
       "  PeriodStart   PeriodEnd                   Area  NumberOfCasesCommenced  \\\n",
       "0  2000-04-01  2001-03-31  food hygiene / safety                       4   \n",
       "1  2000-04-01  2001-03-31         animal welfare                       0   \n",
       "2  2001-04-01  2002-03-31  food hygiene / safety                      13   \n",
       "3  2001-04-01  2002-03-31         animal welfare                       0   \n",
       "4  2002-04-01  2003-03-31  food hygiene / safety                       9   \n",
       "\n",
       "   NumberOfSuccessfulCases  CompaniesOrIndividualsSuccessfullyProsecuted  \\\n",
       "0                        4                                             4   \n",
       "1                        0                                             0   \n",
       "2                       12                                            11   \n",
       "3                        0                                             0   \n",
       "4                        5                                             5   \n",
       "\n",
       "   InfFilesCoveredBySuccessfulCases  TotalFines  TotalCosts  \n",
       "0                                 4        8500       1,914  \n",
       "1                                 0           0           0  \n",
       "2                                12       12070      11,436  \n",
       "3                                 0           0           0  \n",
       "4                                 7       17000      22,945  "
      ]
     },
     "execution_count": 8,
     "metadata": {},
     "output_type": "execute_result"
    }
   ],
   "source": [
    "#Extracting CSV from local/shared drive\n",
    "csv_df = pd.read_csv('C:/Users/sod04/Desktop/uk_gov_health.csv')\n",
    "csv_df.head()"
   ]
  },
  {
   "cell_type": "code",
   "execution_count": 38,
   "metadata": {},
   "outputs": [],
   "source": [
    "#Extracting excel workbook from local/shared drive\n",
    "import xlrd\n",
    "workbook = xlrd.open_workbook('C:/Users/sod04/Desktop/linearandvod.xlsx')"
   ]
  },
  {
   "cell_type": "code",
   "execution_count": 37,
   "metadata": {},
   "outputs": [
    {
     "data": {
      "text/plain": [
       "(['Sheet1',\n",
       "  'Sheet2',\n",
       "  'Sheet5',\n",
       "  'lin vod',\n",
       "  'Sheet10',\n",
       "  'Sheet12',\n",
       "  'Sheet13',\n",
       "  'PYTHON_K (2)',\n",
       "  'PYTHON_K',\n",
       "  'Sheet9',\n",
       "  'Sheet8',\n",
       "  'lookup',\n",
       "  'regression',\n",
       "  'Sheet6'],\n",
       " 14)"
      ]
     },
     "execution_count": 37,
     "metadata": {},
     "output_type": "execute_result"
    }
   ],
   "source": [
    "#names of worksheets , #number of worksheets\n",
    "workbook.sheet_names(), workbook.nsheets #multiple outputs can be displayed when statements are separated by a comma."
   ]
  },
  {
   "cell_type": "code",
   "execution_count": 141,
   "metadata": {},
   "outputs": [],
   "source": [
    "#We are interested in the PYTHON_K worksheet and will have to create a dataframe to be able to work with it \n",
    "worksheet_as_df = pd.read_excel('C:/Users/sod04/Desktop/linearandvod.xlsx'\n",
    "                                 , sheet_name='PYTHON_K'\n",
    "                                 , usecols = 'A:E')\n",
    "\n",
    "#we shall then name each of the columns and make them easy to read unless they perfectly makes sense. \n",
    "worksheet_as_df.columns = ['x_reach', 'y_reach', 'y_predicted', 'residual', 'std_residual']"
   ]
  },
  {
   "cell_type": "code",
   "execution_count": 29,
   "metadata": {},
   "outputs": [
    {
     "data": {
      "text/html": [
       "<div>\n",
       "<style scoped>\n",
       "    .dataframe tbody tr th:only-of-type {\n",
       "        vertical-align: middle;\n",
       "    }\n",
       "\n",
       "    .dataframe tbody tr th {\n",
       "        vertical-align: top;\n",
       "    }\n",
       "\n",
       "    .dataframe thead th {\n",
       "        text-align: right;\n",
       "    }\n",
       "</style>\n",
       "<table border=\"1\" class=\"dataframe\">\n",
       "  <thead>\n",
       "    <tr style=\"text-align: right;\">\n",
       "      <th></th>\n",
       "      <th>x_reach</th>\n",
       "      <th>y_reach</th>\n",
       "      <th>y_predicted</th>\n",
       "      <th>residual</th>\n",
       "      <th>std_residual</th>\n",
       "    </tr>\n",
       "  </thead>\n",
       "  <tbody>\n",
       "    <tr>\n",
       "      <th>0</th>\n",
       "      <td>0.082</td>\n",
       "      <td>0.116</td>\n",
       "      <td>0.083</td>\n",
       "      <td>0.032</td>\n",
       "      <td>0.892</td>\n",
       "    </tr>\n",
       "    <tr>\n",
       "      <th>1</th>\n",
       "      <td>0.082</td>\n",
       "      <td>0.112</td>\n",
       "      <td>0.084</td>\n",
       "      <td>0.028</td>\n",
       "      <td>0.762</td>\n",
       "    </tr>\n",
       "    <tr>\n",
       "      <th>2</th>\n",
       "      <td>0.083</td>\n",
       "      <td>0.118</td>\n",
       "      <td>0.085</td>\n",
       "      <td>0.033</td>\n",
       "      <td>0.916</td>\n",
       "    </tr>\n",
       "    <tr>\n",
       "      <th>3</th>\n",
       "      <td>0.084</td>\n",
       "      <td>0.118</td>\n",
       "      <td>0.086</td>\n",
       "      <td>0.032</td>\n",
       "      <td>0.887</td>\n",
       "    </tr>\n",
       "    <tr>\n",
       "      <th>4</th>\n",
       "      <td>0.084</td>\n",
       "      <td>0.087</td>\n",
       "      <td>0.086</td>\n",
       "      <td>0.000</td>\n",
       "      <td>-0.119</td>\n",
       "    </tr>\n",
       "  </tbody>\n",
       "</table>\n",
       "</div>"
      ],
      "text/plain": [
       "   x_reach  y_reach  y_predicted  residual  std_residual\n",
       "0    0.082    0.116        0.083     0.032         0.892\n",
       "1    0.082    0.112        0.084     0.028         0.762\n",
       "2    0.083    0.118        0.085     0.033         0.916\n",
       "3    0.084    0.118        0.086     0.032         0.887\n",
       "4    0.084    0.087        0.086     0.000        -0.119"
      ]
     },
     "execution_count": 29,
     "metadata": {},
     "output_type": "execute_result"
    }
   ],
   "source": [
    "#Display a part of the dataset\n",
    "#Formatting the dataset so the decimals appear\n",
    "pd.options.display.float_format = '{:,.3f}'.format#.3f upto 3 decimals\n",
    "#print(worksheet_as_df)-- displays many rows\n",
    "worksheet_as_df.head()"
   ]
  },
  {
   "cell_type": "code",
   "execution_count": 30,
   "metadata": {},
   "outputs": [
    {
     "data": {
      "text/plain": [
       "['PeriodStart',\n",
       " 'PeriodEnd',\n",
       " 'Area',\n",
       " 'NumberOfCasesCommenced',\n",
       " 'NumberOfSuccessfulCases',\n",
       " 'CompaniesOrIndividualsSuccessfullyProsecuted',\n",
       " 'InfFilesCoveredBySuccessfulCases',\n",
       " 'TotalFines',\n",
       " 'TotalCosts']"
      ]
     },
     "execution_count": 30,
     "metadata": {},
     "output_type": "execute_result"
    }
   ],
   "source": [
    "#column names\n",
    "list(csv_df.columns.values)#displays value of fields in a column"
   ]
  },
  {
   "cell_type": "code",
   "execution_count": 31,
   "metadata": {},
   "outputs": [
    {
     "data": {
      "text/plain": [
       "['x_reach', 'y_reach', 'y_predicted', 'residual', 'std_residual']"
      ]
     },
     "execution_count": 31,
     "metadata": {},
     "output_type": "execute_result"
    }
   ],
   "source": [
    "list(worksheet_as_df)#displays value of fields in a row"
   ]
  },
  {
   "cell_type": "code",
   "execution_count": 41,
   "metadata": {},
   "outputs": [
    {
     "data": {
      "text/plain": [
       "('2016-04-01',\n",
       " '2000-04-01',\n",
       " PeriodStart                                      object\n",
       " PeriodEnd                                        object\n",
       " Area                                             object\n",
       " NumberOfCasesCommenced                            int64\n",
       " NumberOfSuccessfulCases                           int64\n",
       " CompaniesOrIndividualsSuccessfullyProsecuted      int64\n",
       " InfFilesCoveredBySuccessfulCases                  int64\n",
       " TotalFines                                        int64\n",
       " TotalCosts                                      float64\n",
       " dtype: object)"
      ]
     },
     "execution_count": 41,
     "metadata": {},
     "output_type": "execute_result"
    }
   ],
   "source": [
    "max(csv_df.PeriodStart), min(csv_df.PeriodStart), csv_df.dtypes"
   ]
  },
  {
   "cell_type": "code",
   "execution_count": 170,
   "metadata": {},
   "outputs": [
    {
     "data": {
      "text/html": [
       "<div>\n",
       "<style scoped>\n",
       "    .dataframe tbody tr th:only-of-type {\n",
       "        vertical-align: middle;\n",
       "    }\n",
       "\n",
       "    .dataframe tbody tr th {\n",
       "        vertical-align: top;\n",
       "    }\n",
       "\n",
       "    .dataframe thead th {\n",
       "        text-align: right;\n",
       "    }\n",
       "</style>\n",
       "<table border=\"1\" class=\"dataframe\">\n",
       "  <thead>\n",
       "    <tr style=\"text-align: right;\">\n",
       "      <th></th>\n",
       "      <th>#YYY/MM/DD</th>\n",
       "      <th>HH:mm:SS.ss</th>\n",
       "      <th>ET</th>\n",
       "      <th>GT</th>\n",
       "      <th>MAG</th>\n",
       "      <th>M</th>\n",
       "      <th>LAT</th>\n",
       "      <th>LON</th>\n",
       "      <th>DEPTH</th>\n",
       "      <th>Q</th>\n",
       "      <th>EVID</th>\n",
       "      <th>NPH</th>\n",
       "      <th>NGRM</th>\n",
       "    </tr>\n",
       "  </thead>\n",
       "  <tbody>\n",
       "    <tr>\n",
       "      <th>0</th>\n",
       "      <td>1932/01/01</td>\n",
       "      <td>23:52:07.87</td>\n",
       "      <td>eq</td>\n",
       "      <td>l</td>\n",
       "      <td>0.00</td>\n",
       "      <td>n</td>\n",
       "      <td>34.130</td>\n",
       "      <td>-117.993</td>\n",
       "      <td>6.000</td>\n",
       "      <td>D</td>\n",
       "      <td>3,358,386.000</td>\n",
       "      <td>7.000</td>\n",
       "      <td>0.000</td>\n",
       "    </tr>\n",
       "    <tr>\n",
       "      <th>1</th>\n",
       "      <td>1932/01/02</td>\n",
       "      <td>16:42:43.68</td>\n",
       "      <td>eq</td>\n",
       "      <td>l</td>\n",
       "      <td>2.73</td>\n",
       "      <td>l</td>\n",
       "      <td>33.903</td>\n",
       "      <td>-117.645</td>\n",
       "      <td>6.000</td>\n",
       "      <td>C</td>\n",
       "      <td>3,358,387.000</td>\n",
       "      <td>12.000</td>\n",
       "      <td>0.000</td>\n",
       "    </tr>\n",
       "  </tbody>\n",
       "</table>\n",
       "</div>"
      ],
      "text/plain": [
       "   #YYY/MM/DD  HH:mm:SS.ss  ET GT   MAG  M    LAT      LON  DEPTH  Q  \\\n",
       "0  1932/01/01  23:52:07.87  eq  l  0.00  n 34.130 -117.993  6.000  D   \n",
       "1  1932/01/02  16:42:43.68  eq  l  2.73  l 33.903 -117.645  6.000  C   \n",
       "\n",
       "           EVID    NPH  NGRM  \n",
       "0 3,358,386.000  7.000 0.000  \n",
       "1 3,358,387.000 12.000 0.000  "
      ]
     },
     "execution_count": 170,
     "metadata": {},
     "output_type": "execute_result"
    }
   ],
   "source": [
    "#Extracting Data from a website\n",
    "url = \"http://service.scedc.caltech.edu/ftp/catalogs/SCEC_DC/1932.catalog\"\n",
    "url_df = pd.read_csv(url , delim_whitespace=True, skiprows=9)\n",
    "#print(url_df)\n",
    "url_df.head(2)#displays two columns only"
   ]
  },
  {
   "cell_type": "code",
   "execution_count": 171,
   "metadata": {},
   "outputs": [
    {
     "data": {
      "text/html": [
       "<div>\n",
       "<style scoped>\n",
       "    .dataframe tbody tr th:only-of-type {\n",
       "        vertical-align: middle;\n",
       "    }\n",
       "\n",
       "    .dataframe tbody tr th {\n",
       "        vertical-align: top;\n",
       "    }\n",
       "\n",
       "    .dataframe thead th {\n",
       "        text-align: right;\n",
       "    }\n",
       "</style>\n",
       "<table border=\"1\" class=\"dataframe\">\n",
       "  <thead>\n",
       "    <tr style=\"text-align: right;\">\n",
       "      <th></th>\n",
       "      <th>Date</th>\n",
       "      <th>Time</th>\n",
       "      <th>ET</th>\n",
       "      <th>GT</th>\n",
       "      <th>MAG</th>\n",
       "      <th>M</th>\n",
       "      <th>Latitude</th>\n",
       "      <th>Longitude</th>\n",
       "      <th>Depth</th>\n",
       "      <th>Q</th>\n",
       "      <th>Evid</th>\n",
       "      <th>NPH</th>\n",
       "      <th>NGRM</th>\n",
       "    </tr>\n",
       "  </thead>\n",
       "  <tbody>\n",
       "    <tr>\n",
       "      <th>0</th>\n",
       "      <td>1932/01/01</td>\n",
       "      <td>23:52:07.87</td>\n",
       "      <td>eq</td>\n",
       "      <td>l</td>\n",
       "      <td>0.00</td>\n",
       "      <td>n</td>\n",
       "      <td>34.130</td>\n",
       "      <td>-117.993</td>\n",
       "      <td>6.000</td>\n",
       "      <td>D</td>\n",
       "      <td>3,358,386.000</td>\n",
       "      <td>7.000</td>\n",
       "      <td>0.000</td>\n",
       "    </tr>\n",
       "    <tr>\n",
       "      <th>1</th>\n",
       "      <td>1932/01/02</td>\n",
       "      <td>16:42:43.68</td>\n",
       "      <td>eq</td>\n",
       "      <td>l</td>\n",
       "      <td>2.73</td>\n",
       "      <td>l</td>\n",
       "      <td>33.903</td>\n",
       "      <td>-117.645</td>\n",
       "      <td>6.000</td>\n",
       "      <td>C</td>\n",
       "      <td>3,358,387.000</td>\n",
       "      <td>12.000</td>\n",
       "      <td>0.000</td>\n",
       "    </tr>\n",
       "  </tbody>\n",
       "</table>\n",
       "</div>"
      ],
      "text/plain": [
       "         Date         Time  ET GT   MAG  M  Latitude  Longitude  Depth  Q  \\\n",
       "0  1932/01/01  23:52:07.87  eq  l  0.00  n    34.130   -117.993  6.000  D   \n",
       "1  1932/01/02  16:42:43.68  eq  l  2.73  l    33.903   -117.645  6.000  C   \n",
       "\n",
       "           Evid    NPH  NGRM  \n",
       "0 3,358,386.000  7.000 0.000  \n",
       "1 3,358,387.000 12.000 0.000  "
      ]
     },
     "execution_count": 171,
     "metadata": {},
     "output_type": "execute_result"
    }
   ],
   "source": [
    "url_df.columns = ['Date', 'Time', 'ET', 'GT', 'MAG', 'M', 'Latitude', 'Longitude', 'Depth', 'Q', 'Evid', 'NPH', 'NGRM']\n",
    "url_df.head(2)"
   ]
  },
  {
   "cell_type": "code",
   "execution_count": 75,
   "metadata": {},
   "outputs": [
    {
     "data": {
      "text/plain": [
       "('1932/12/31', 34.0619433962264, -117.52978301886778, 1.875000061409753)"
      ]
     },
     "execution_count": 75,
     "metadata": {},
     "output_type": "execute_result"
    }
   ],
   "source": [
    "#Aggregate functions \n",
    "max(url_df.Date), np.mean(url_df.Latitude),np.mean(url_df.Longitude), np.var(url_df.Longitude)"
   ]
  },
  {
   "cell_type": "code",
   "execution_count": 76,
   "metadata": {},
   "outputs": [
    {
     "data": {
      "text/html": [
       "<div>\n",
       "<style scoped>\n",
       "    .dataframe tbody tr th:only-of-type {\n",
       "        vertical-align: middle;\n",
       "    }\n",
       "\n",
       "    .dataframe tbody tr th {\n",
       "        vertical-align: top;\n",
       "    }\n",
       "\n",
       "    .dataframe thead th {\n",
       "        text-align: right;\n",
       "    }\n",
       "</style>\n",
       "<table border=\"1\" class=\"dataframe\">\n",
       "  <thead>\n",
       "    <tr style=\"text-align: right;\">\n",
       "      <th></th>\n",
       "      <th>Latitude</th>\n",
       "      <th>Longitude</th>\n",
       "      <th>Depth</th>\n",
       "      <th>Evid</th>\n",
       "      <th>NPH</th>\n",
       "      <th>NGRM</th>\n",
       "    </tr>\n",
       "  </thead>\n",
       "  <tbody>\n",
       "    <tr>\n",
       "      <th>count</th>\n",
       "      <td>424.000</td>\n",
       "      <td>424.000</td>\n",
       "      <td>424.000</td>\n",
       "      <td>424.000</td>\n",
       "      <td>424.000</td>\n",
       "      <td>424.000</td>\n",
       "    </tr>\n",
       "    <tr>\n",
       "      <th>mean</th>\n",
       "      <td>34.062</td>\n",
       "      <td>-117.530</td>\n",
       "      <td>6.313</td>\n",
       "      <td>3,470,300.066</td>\n",
       "      <td>8.318</td>\n",
       "      <td>0.000</td>\n",
       "    </tr>\n",
       "    <tr>\n",
       "      <th>std</th>\n",
       "      <td>0.986</td>\n",
       "      <td>1.371</td>\n",
       "      <td>2.165</td>\n",
       "      <td>858,319.646</td>\n",
       "      <td>4.348</td>\n",
       "      <td>0.000</td>\n",
       "    </tr>\n",
       "    <tr>\n",
       "      <th>min</th>\n",
       "      <td>32.000</td>\n",
       "      <td>-121.967</td>\n",
       "      <td>0.000</td>\n",
       "      <td>3,358,386.000</td>\n",
       "      <td>0.000</td>\n",
       "      <td>0.000</td>\n",
       "    </tr>\n",
       "    <tr>\n",
       "      <th>25%</th>\n",
       "      <td>33.471</td>\n",
       "      <td>-118.362</td>\n",
       "      <td>6.000</td>\n",
       "      <td>3,358,787.000</td>\n",
       "      <td>6.000</td>\n",
       "      <td>0.000</td>\n",
       "    </tr>\n",
       "    <tr>\n",
       "      <th>50%</th>\n",
       "      <td>33.986</td>\n",
       "      <td>-117.394</td>\n",
       "      <td>6.000</td>\n",
       "      <td>3,359,145.500</td>\n",
       "      <td>7.000</td>\n",
       "      <td>0.000</td>\n",
       "    </tr>\n",
       "    <tr>\n",
       "      <th>75%</th>\n",
       "      <td>34.475</td>\n",
       "      <td>-116.469</td>\n",
       "      <td>6.000</td>\n",
       "      <td>3,359,357.250</td>\n",
       "      <td>10.000</td>\n",
       "      <td>0.000</td>\n",
       "    </tr>\n",
       "    <tr>\n",
       "      <th>max</th>\n",
       "      <td>36.917</td>\n",
       "      <td>-114.987</td>\n",
       "      <td>21.900</td>\n",
       "      <td>10,087,222.000</td>\n",
       "      <td>29.000</td>\n",
       "      <td>0.000</td>\n",
       "    </tr>\n",
       "  </tbody>\n",
       "</table>\n",
       "</div>"
      ],
      "text/plain": [
       "       Latitude  Longitude   Depth           Evid     NPH    NGRM\n",
       "count   424.000    424.000 424.000        424.000 424.000 424.000\n",
       "mean     34.062   -117.530   6.313  3,470,300.066   8.318   0.000\n",
       "std       0.986      1.371   2.165    858,319.646   4.348   0.000\n",
       "min      32.000   -121.967   0.000  3,358,386.000   0.000   0.000\n",
       "25%      33.471   -118.362   6.000  3,358,787.000   6.000   0.000\n",
       "50%      33.986   -117.394   6.000  3,359,145.500   7.000   0.000\n",
       "75%      34.475   -116.469   6.000  3,359,357.250  10.000   0.000\n",
       "max      36.917   -114.987  21.900 10,087,222.000  29.000   0.000"
      ]
     },
     "execution_count": 76,
     "metadata": {},
     "output_type": "execute_result"
    }
   ],
   "source": [
    "#basic statistics\n",
    "url_df.describe()"
   ]
  },
  {
   "cell_type": "code",
   "execution_count": 205,
   "metadata": {},
   "outputs": [
    {
     "data": {
      "text/plain": [
       "['Country',\n",
       " 'Earthquake cause (main class)',\n",
       " 'Earthquake cause (subclass)',\n",
       " 'Project name',\n",
       " 'Latitude (approximate)',\n",
       " 'Longitude (approximate)',\n",
       " 'Project start date',\n",
       " 'Project end date',\n",
       " 'Seismicity or monitoring start date',\n",
       " 'Seismicity or monitoring end date',\n",
       " 'Time between project start and initiation of seismicity',\n",
       " 'Number of recorded earthquakes',\n",
       " 'Observed maximum magnitude (Mmax)',\n",
       " 'Magnitude type for Mmax',\n",
       " 'Depth of Mmax (m)',\n",
       " 'Date of Mmax (yyyy/mm/dd)',\n",
       " 'Year of Mmax',\n",
       " 'Distance of Mmax to project (m)',\n",
       " 'Maximum distance of earthquakes to project (m)',\n",
       " 'Lithology/Resource',\n",
       " 'Depth of most seismicity (m)',\n",
       " 'Depth of project (m)',\n",
       " 'Tectonic setting',\n",
       " 'Notable previous seismicity',\n",
       " 'Dam height (m)',\n",
       " 'Area (km2)',\n",
       " 'Maximum injection/extraction rate (max unless stated)',\n",
       " 'Rate units',\n",
       " 'Total volume or mass of material injected/extracted',\n",
       " 'Volume or mass units',\n",
       " 'Maximum injection pressure (MPa)',\n",
       " 'Change in reservoir pressure (MPa)',\n",
       " 'Stress change (MPa)',\n",
       " 'Bottom hole temperature (°C)',\n",
       " 'Notes',\n",
       " 'Reference(s)']"
      ]
     },
     "execution_count": 205,
     "metadata": {},
     "output_type": "execute_result"
    }
   ],
   "source": [
    "#Extract from Website\n",
    "url = \"http://inducedearthquakes.org/wp-content/uploads/2018/08/The_Human_Induced_Earthquake_Database.xlsx\"\n",
    "df_earthquake = pd.read_excel( url )\n",
    "df_earthquake.head(1)\n",
    "list(df_earthquake.columns)"
   ]
  },
  {
   "cell_type": "code",
   "execution_count": 210,
   "metadata": {},
   "outputs": [
    {
     "data": {
      "text/plain": [
       "Mining                               284\n",
       "Water reservoir impoundment          174\n",
       "Conventional Oil and Gas             109\n",
       "Geothermal                            60\n",
       "Fracking                              44\n",
       "Waste fluid disposal                  39\n",
       "Nuclear explosions                    24\n",
       "Research                              14\n",
       "Oil and Gas                            8\n",
       "Groundwater extraction                 5\n",
       "Oil and Gas/Waste fluid injection      4\n",
       "Deep penetrating bombs                 4\n",
       "CCS                                    2\n",
       "Construction                           2\n",
       "Coal Bed Methane (CBM)                 1\n",
       "Name: Earthquake cause (main class), dtype: int64"
      ]
     },
     "execution_count": 210,
     "metadata": {},
     "output_type": "execute_result"
    }
   ],
   "source": [
    "#Counts of categories of a column\n",
    "df_earthquake['Earthquake cause (main class)'].value_counts()"
   ]
  },
  {
   "cell_type": "code",
   "execution_count": 207,
   "metadata": {},
   "outputs": [
    {
     "data": {
      "text/plain": [
       "<matplotlib.axes._subplots.AxesSubplot at 0x1eefbff0>"
      ]
     },
     "execution_count": 207,
     "metadata": {},
     "output_type": "execute_result"
    },
    {
     "data": {
      "image/png": "[encoded data removed]",
      "text/plain": [
       "<matplotlib.figure.Figure at 0x1eefbeb0>"
      ]
     },
     "metadata": {},
     "output_type": "display_data"
    }
   ],
   "source": [
    "#Create a bar graph of the above Earthquake cause categories\n",
    "df_earthquake['Earthquake cause (main class)'].value_counts().plot(kind='bar')#barh for horizontal bars"
   ]
  },
  {
   "cell_type": "code",
   "execution_count": 81,
   "metadata": {},
   "outputs": [
    {
     "data": {
      "text/plain": [
       "<matplotlib.axes._subplots.AxesSubplot at 0x18e5f7f0>"
      ]
     },
     "execution_count": 81,
     "metadata": {},
     "output_type": "execute_result"
    },
    {
     "data": {
      "image/png": "[encoded data removed]",
      "text/plain": [
       "<matplotlib.figure.Figure at 0x18ee9610>"
      ]
     },
     "metadata": {},
     "output_type": "display_data"
    }
   ],
   "source": [
    "#Create a pie chart of the above Earthquake cause categories (not advised for > 6 categories)\n",
    "df['Earthquake cause (main class)'].value_counts().plot(kind='pie')"
   ]
  },
  {
   "cell_type": "code",
   "execution_count": 87,
   "metadata": {},
   "outputs": [
    {
     "data": {
      "text/plain": [
       "food hygiene / safety               17\n",
       "animal welfare / cattle id / abp    10\n",
       "animal welfare                       7\n",
       "Name: Area, dtype: int64"
      ]
     },
     "execution_count": 87,
     "metadata": {},
     "output_type": "execute_result"
    }
   ],
   "source": [
    "csv_df.Area.value_counts()"
   ]
  },
  {
   "cell_type": "code",
   "execution_count": 183,
   "metadata": {},
   "outputs": [
    {
     "data": {
      "text/plain": [
       "array(['food hygiene / safety', 'animal welfare',\n",
       "       'animal welfare / cattle id / abp'], dtype=object)"
      ]
     },
     "execution_count": 183,
     "metadata": {},
     "output_type": "execute_result"
    },
    {
     "data": {
      "image/png": "[encoded data removed]",
      "text/plain": [
       "<matplotlib.figure.Figure at 0x1cee2950>"
      ]
     },
     "metadata": {},
     "output_type": "display_data"
    }
   ],
   "source": [
    "#both the below queries work \n",
    "#csv_df.Area.value_counts().plot(kind = 'bar')\n",
    "csv_df['Area'].value_counts().plot(kind = 'bar')\n",
    "csv_df['Area'].unique()\n",
    "csv_df.Area.unique()"
   ]
  },
  {
   "cell_type": "markdown",
   "metadata": {},
   "source": [
    "**Scraping data from HTML pages**\n",
    "It is not that surprising that you can load files directly from the web.\n",
    "\n",
    "However, what about content that is embedded within a webpage? Maybe there is a table of data presented on a website that you would like to work with?\n",
    "\n",
    "Have a look at this page on the Our World in Data site: https://ourworldindata.org/natural-catastrophes\n",
    "\n",
    "Some of the underlying data is available here: https://ourworldindata.org/ofdacred-international-disaster-data\n",
    "\n",
    "This page has two tables of data in it. How can we access it?\n",
    "\n",
    "The code below extracts all of the html tables in the webpage to a list of DataFrames called df_list."
   ]
  },
  {
   "cell_type": "code",
   "execution_count": 303,
   "metadata": {},
   "outputs": [
    {
     "data": {
      "text/plain": [
       "['Yearly average\\nglobal annual deaths from natural disasters, \\nby decade',\n",
       " 'Drought',\n",
       " 'Earthquake',\n",
       " 'Extreme temperature',\n",
       " 'Flood',\n",
       " 'Impact',\n",
       " 'Landslide',\n",
       " 'Mass movement (dry)',\n",
       " 'Storm',\n",
       " 'Volcanic activity',\n",
       " 'Wildfire']"
      ]
     },
     "execution_count": 303,
     "metadata": {},
     "output_type": "execute_result"
    }
   ],
   "source": [
    "df_list = pd.read_html( \"https://ourworldindata.org/ofdacred-international-disaster-data\" )\n",
    "df_table1 = df_list[0]\n",
    "list(df_table1)"
   ]
  },
  {
   "cell_type": "code",
   "execution_count": 302,
   "metadata": {},
   "outputs": [
    {
     "data": {
      "text/plain": [
       "Decades                12\n",
       "Drought                11\n",
       "Earthquake             12\n",
       "Extreme temperature     9\n",
       "Flood                  12\n",
       "Impact                  1\n",
       "Landslide              12\n",
       "Mass movement (dry)     9\n",
       "Storm                  12\n",
       "Volcanic activity      12\n",
       "Wildfire               10\n",
       "dtype: int64"
      ]
     },
     "execution_count": 302,
     "metadata": {},
     "output_type": "execute_result"
    }
   ],
   "source": [
    "df_table1 = df_list[0]\n",
    "df_table1.rename(columns={'Yearly average\\nglobal annual deaths from natural disasters, \\nby decade':'Decades'}, inplace=True)\n",
    "#df_table1.iloc[:,0:1].head(3)\n",
    "#df_table1[['Drought','Earthquake']].head(3)\n",
    "df_table1.nunique()"
   ]
  },
  {
   "cell_type": "code",
   "execution_count": 320,
   "metadata": {},
   "outputs": [
    {
     "data": {
      "text/plain": [
       "<matplotlib.axes._subplots.AxesSubplot at 0x20fb4d10>"
      ]
     },
     "execution_count": 320,
     "metadata": {},
     "output_type": "execute_result"
    },
    {
     "data": {
      "image/png": "[encoded data removed]",
      "text/plain": [
       "<matplotlib.figure.Figure at 0x20fb2470>"
      ]
     },
     "metadata": {},
     "output_type": "display_data"
    }
   ],
   "source": [
    "#Select column-x, COUNT(DISTINCT column-y) equivalent in Pandas\n",
    "\n",
    "#df_table1.groupby('Decades').Earthquake.nunique()\n",
    "#df_table1.groupby('Decades').Storm.nunique()\n",
    "df_table1.rename(columns={'Yearly average\\nglobal annual deaths from natural disasters, \\nby decade':'Decades'}, inplace=True)\n",
    "df_table1.nunique()\n",
    "df_table1.groupby('Decades').Earthquake.sum().plot(kind = 'barh')\n"
   ]
  },
  {
   "cell_type": "code",
   "execution_count": 193,
   "metadata": {},
   "outputs": [
    {
     "data": {
      "text/html": [
       "<div>\n",
       "<style scoped>\n",
       "    .dataframe tbody tr th:only-of-type {\n",
       "        vertical-align: middle;\n",
       "    }\n",
       "\n",
       "    .dataframe tbody tr th {\n",
       "        vertical-align: top;\n",
       "    }\n",
       "\n",
       "    .dataframe thead th {\n",
       "        text-align: right;\n",
       "    }\n",
       "</style>\n",
       "<table border=\"1\" class=\"dataframe\">\n",
       "  <thead>\n",
       "    <tr style=\"text-align: right;\">\n",
       "      <th></th>\n",
       "      <th>Runs</th>\n",
       "      <th>Mins</th>\n",
       "      <th>BF</th>\n",
       "      <th>4s</th>\n",
       "      <th>6s</th>\n",
       "      <th>SR</th>\n",
       "      <th>Pos</th>\n",
       "      <th>Dismissal</th>\n",
       "      <th>Inns</th>\n",
       "      <th>Unnamed: 9</th>\n",
       "      <th>Opposition</th>\n",
       "      <th>Ground</th>\n",
       "      <th>Start Date</th>\n",
       "      <th>Unnamed: 13</th>\n",
       "    </tr>\n",
       "  </thead>\n",
       "  <tbody>\n",
       "    <tr>\n",
       "      <th>0</th>\n",
       "      <td>15</td>\n",
       "      <td>28</td>\n",
       "      <td>24</td>\n",
       "      <td>2</td>\n",
       "      <td>0</td>\n",
       "      <td>62.50</td>\n",
       "      <td>6</td>\n",
       "      <td>bowled</td>\n",
       "      <td>2</td>\n",
       "      <td>nan</td>\n",
       "      <td>v Pakistan</td>\n",
       "      <td>Karachi</td>\n",
       "      <td>15 Nov 1989</td>\n",
       "      <td>Test # 1127</td>\n",
       "    </tr>\n",
       "    <tr>\n",
       "      <th>1</th>\n",
       "      <td>DNB</td>\n",
       "      <td>-</td>\n",
       "      <td>-</td>\n",
       "      <td>-</td>\n",
       "      <td>-</td>\n",
       "      <td>-</td>\n",
       "      <td>-</td>\n",
       "      <td>-</td>\n",
       "      <td>4</td>\n",
       "      <td>nan</td>\n",
       "      <td>v Pakistan</td>\n",
       "      <td>Karachi</td>\n",
       "      <td>15 Nov 1989</td>\n",
       "      <td>Test # 1127</td>\n",
       "    </tr>\n",
       "  </tbody>\n",
       "</table>\n",
       "</div>"
      ],
      "text/plain": [
       "  Runs Mins  BF 4s 6s     SR Pos Dismissal Inns  Unnamed: 9  Opposition  \\\n",
       "0   15   28  24  2  0  62.50   6    bowled    2         nan  v Pakistan   \n",
       "1  DNB    -   -  -  -      -   -         -    4         nan  v Pakistan   \n",
       "\n",
       "    Ground   Start Date  Unnamed: 13  \n",
       "0  Karachi  15 Nov 1989  Test # 1127  \n",
       "1  Karachi  15 Nov 1989  Test # 1127  "
      ]
     },
     "execution_count": 193,
     "metadata": {},
     "output_type": "execute_result"
    }
   ],
   "source": [
    "sachin_html = pd.read_html(\"http://stats.espncricinfo.com/ci/engine/player/35320.html?class=1;template=results;type=batting;view=innings\")\n",
    "df_sachin = sachin_html[3]\n",
    "df_sachin.head(2)"
   ]
  },
  {
   "cell_type": "code",
   "execution_count": 194,
   "metadata": {},
   "outputs": [],
   "source": [
    "#Extract csv from Website\n",
    "airports_url           = \"http://ourairports.com/data/airports.csv\"\n",
    "airports_frequency_url = \"http://ourairports.com/data/airport-frequencies.csv\"\n",
    "runaways_url           = \"http://ourairports.com/data/runaways.csv\"\n",
    "navaids_url            = \"http://ourairports.com/data/navaids.csv\"\n",
    "countries_url          = \"http://ourairports.com/data/countries.csv\"\n",
    "regions_url            = \"http://ourairports.com/data/regions.csv\""
   ]
  },
  {
   "cell_type": "code",
   "execution_count": 196,
   "metadata": {},
   "outputs": [],
   "source": [
    "airport_df      = pd.read_csv(airports_url)\n",
    "airport_freq_df = pd.read_csv(airports_frequency_url)\n",
    "#runaways_df     = pd.read_csv(runaways_url) -- there is some error in this file\n",
    "navaids_df      = pd.read_csv(navaids_url)\n",
    "countries_df    = pd.read_csv(countries_url)\n",
    "regions_df      = pd.read_csv(regions_url)"
   ]
  },
  {
   "cell_type": "code",
   "execution_count": 192,
   "metadata": {},
   "outputs": [
    {
     "data": {
      "text/html": [
       "<div>\n",
       "<style scoped>\n",
       "    .dataframe tbody tr th:only-of-type {\n",
       "        vertical-align: middle;\n",
       "    }\n",
       "\n",
       "    .dataframe tbody tr th {\n",
       "        vertical-align: top;\n",
       "    }\n",
       "\n",
       "    .dataframe thead th {\n",
       "        text-align: right;\n",
       "    }\n",
       "</style>\n",
       "<table border=\"1\" class=\"dataframe\">\n",
       "  <thead>\n",
       "    <tr style=\"text-align: right;\">\n",
       "      <th></th>\n",
       "      <th>id</th>\n",
       "      <th>airport_ref</th>\n",
       "      <th>airport_ident</th>\n",
       "      <th>type</th>\n",
       "      <th>description</th>\n",
       "      <th>frequency_mhz</th>\n",
       "    </tr>\n",
       "  </thead>\n",
       "  <tbody>\n",
       "    <tr>\n",
       "      <th>0</th>\n",
       "      <td>70518</td>\n",
       "      <td>6528</td>\n",
       "      <td>00CA</td>\n",
       "      <td>CTAF</td>\n",
       "      <td>CTAF</td>\n",
       "      <td>122.900</td>\n",
       "    </tr>\n",
       "    <tr>\n",
       "      <th>1</th>\n",
       "      <td>307581</td>\n",
       "      <td>6589</td>\n",
       "      <td>01FL</td>\n",
       "      <td>ARCAL</td>\n",
       "      <td>NaN</td>\n",
       "      <td>122.900</td>\n",
       "    </tr>\n",
       "  </tbody>\n",
       "</table>\n",
       "</div>"
      ],
      "text/plain": [
       "       id  airport_ref airport_ident   type description  frequency_mhz\n",
       "0   70518         6528          00CA   CTAF        CTAF        122.900\n",
       "1  307581         6589          01FL  ARCAL         NaN        122.900"
      ]
     },
     "execution_count": 192,
     "metadata": {},
     "output_type": "execute_result"
    }
   ],
   "source": [
    "#selecting top 2 rows\n",
    "airport_freq_df.head(2)"
   ]
  },
  {
   "cell_type": "code",
   "execution_count": 138,
   "metadata": {},
   "outputs": [
    {
     "data": {
      "text/plain": [
       "<matplotlib.axes._subplots.AxesSubplot at 0x1c640ed0>"
      ]
     },
     "execution_count": 138,
     "metadata": {},
     "output_type": "execute_result"
    },
    {
     "data": {
      "image/png": "[encoded data removed]",
      "text/plain": [
       "<matplotlib.figure.Figure at 0x1d071510>"
      ]
     },
     "metadata": {},
     "output_type": "display_data"
    }
   ],
   "source": [
    "#horizontal bar chart\n",
    "airport_df['type'].value_counts().plot(kind = 'barh')"
   ]
  },
  {
   "cell_type": "code",
   "execution_count": 158,
   "metadata": {},
   "outputs": [
    {
     "data": {
      "text/plain": [
       "['heliport',\n",
       " 'small_airport',\n",
       " 'closed',\n",
       " 'seaplane_base',\n",
       " 'balloonport',\n",
       " 'medium_airport',\n",
       " 'large_airport']"
      ]
     },
     "execution_count": 158,
     "metadata": {},
     "output_type": "execute_result"
    }
   ],
   "source": [
    "#distinct values of a category\n",
    "list(airport_df['type'].unique()) #same as list(airport_df.type.unique())"
   ]
  },
  {
   "cell_type": "markdown",
   "metadata": {},
   "source": [
    "**Running SQL Queries on Dataframe**"
   ]
  },
  {
   "cell_type": "code",
   "execution_count": 165,
   "metadata": {},
   "outputs": [],
   "source": [
    "import pandasql as ps #allows you to run SQL on dataframe objects\n",
    "\n",
    "#Distinct types of airports \n",
    "Q1 = \"\"\"select distinct type, count(*) as total from airport_df group by type\"\"\";"
   ]
  },
  {
   "cell_type": "code",
   "execution_count": 198,
   "metadata": {},
   "outputs": [
    {
     "data": {
      "text/html": [
       "<div>\n",
       "<style scoped>\n",
       "    .dataframe tbody tr th:only-of-type {\n",
       "        vertical-align: middle;\n",
       "    }\n",
       "\n",
       "    .dataframe tbody tr th {\n",
       "        vertical-align: top;\n",
       "    }\n",
       "\n",
       "    .dataframe thead th {\n",
       "        text-align: right;\n",
       "    }\n",
       "</style>\n",
       "<table border=\"1\" class=\"dataframe\">\n",
       "  <thead>\n",
       "    <tr style=\"text-align: right;\">\n",
       "      <th></th>\n",
       "      <th>type</th>\n",
       "      <th>total</th>\n",
       "    </tr>\n",
       "  </thead>\n",
       "  <tbody>\n",
       "    <tr>\n",
       "      <th>0</th>\n",
       "      <td>balloonport</td>\n",
       "      <td>23</td>\n",
       "    </tr>\n",
       "    <tr>\n",
       "      <th>1</th>\n",
       "      <td>closed</td>\n",
       "      <td>3551</td>\n",
       "    </tr>\n",
       "    <tr>\n",
       "      <th>2</th>\n",
       "      <td>heliport</td>\n",
       "      <td>11272</td>\n",
       "    </tr>\n",
       "    <tr>\n",
       "      <th>3</th>\n",
       "      <td>large_airport</td>\n",
       "      <td>624</td>\n",
       "    </tr>\n",
       "    <tr>\n",
       "      <th>4</th>\n",
       "      <td>medium_airport</td>\n",
       "      <td>4548</td>\n",
       "    </tr>\n",
       "    <tr>\n",
       "      <th>5</th>\n",
       "      <td>seaplane_base</td>\n",
       "      <td>1015</td>\n",
       "    </tr>\n",
       "    <tr>\n",
       "      <th>6</th>\n",
       "      <td>small_airport</td>\n",
       "      <td>33962</td>\n",
       "    </tr>\n",
       "  </tbody>\n",
       "</table>\n",
       "</div>"
      ],
      "text/plain": [
       "             type  total\n",
       "0     balloonport     23\n",
       "1          closed   3551\n",
       "2        heliport  11272\n",
       "3   large_airport    624\n",
       "4  medium_airport   4548\n",
       "5   seaplane_base   1015\n",
       "6   small_airport  33962"
      ]
     },
     "execution_count": 198,
     "metadata": {},
     "output_type": "execute_result"
    }
   ],
   "source": [
    "dfq1 = ps.sqldf(Q1)\n",
    "#print(dfq1)\n",
    "#dfq1.head(10)\n",
    "dfq1"
   ]
  },
  {
   "cell_type": "code",
   "execution_count": 199,
   "metadata": {},
   "outputs": [
    {
     "data": {
      "text/html": [
       "<div>\n",
       "<style scoped>\n",
       "    .dataframe tbody tr th:only-of-type {\n",
       "        vertical-align: middle;\n",
       "    }\n",
       "\n",
       "    .dataframe tbody tr th {\n",
       "        vertical-align: top;\n",
       "    }\n",
       "\n",
       "    .dataframe thead th {\n",
       "        text-align: right;\n",
       "    }\n",
       "</style>\n",
       "<table border=\"1\" class=\"dataframe\">\n",
       "  <thead>\n",
       "    <tr style=\"text-align: right;\">\n",
       "      <th></th>\n",
       "      <th>0</th>\n",
       "      <th>1</th>\n",
       "      <th>2</th>\n",
       "      <th>3</th>\n",
       "      <th>4</th>\n",
       "      <th>5</th>\n",
       "      <th>6</th>\n",
       "    </tr>\n",
       "  </thead>\n",
       "  <tbody>\n",
       "    <tr>\n",
       "      <th>type</th>\n",
       "      <td>balloonport</td>\n",
       "      <td>closed</td>\n",
       "      <td>heliport</td>\n",
       "      <td>large_airport</td>\n",
       "      <td>medium_airport</td>\n",
       "      <td>seaplane_base</td>\n",
       "      <td>small_airport</td>\n",
       "    </tr>\n",
       "    <tr>\n",
       "      <th>total</th>\n",
       "      <td>23</td>\n",
       "      <td>3551</td>\n",
       "      <td>11272</td>\n",
       "      <td>624</td>\n",
       "      <td>4548</td>\n",
       "      <td>1015</td>\n",
       "      <td>33962</td>\n",
       "    </tr>\n",
       "  </tbody>\n",
       "</table>\n",
       "</div>"
      ],
      "text/plain": [
       "                 0       1         2              3               4  \\\n",
       "type   balloonport  closed  heliport  large_airport  medium_airport   \n",
       "total           23    3551     11272            624            4548   \n",
       "\n",
       "                   5              6  \n",
       "type   seaplane_base  small_airport  \n",
       "total           1015          33962  "
      ]
     },
     "execution_count": 199,
     "metadata": {},
     "output_type": "execute_result"
    }
   ],
   "source": [
    "#Transpose of above\n",
    "dfq1.T"
   ]
  },
  {
   "cell_type": "code",
   "execution_count": 221,
   "metadata": {},
   "outputs": [
    {
     "data": {
      "text/plain": [
       "['id',\n",
       " 'ident',\n",
       " 'type',\n",
       " 'name',\n",
       " 'latitude_deg',\n",
       " 'longitude_deg',\n",
       " 'elevation_ft',\n",
       " 'continent',\n",
       " 'iso_country',\n",
       " 'iso_region',\n",
       " 'municipality',\n",
       " 'scheduled_service',\n",
       " 'gps_code',\n",
       " 'iata_code',\n",
       " 'local_code',\n",
       " 'home_link',\n",
       " 'wikipedia_link',\n",
       " 'keywords']"
      ]
     },
     "execution_count": 221,
     "metadata": {},
     "output_type": "execute_result"
    }
   ],
   "source": [
    "list(airport_df)\n",
    "#airport_df['type'].value_counts().plot(kind = 'barh')"
   ]
  },
  {
   "cell_type": "code",
   "execution_count": 246,
   "metadata": {},
   "outputs": [
    {
     "data": {
      "text/plain": [
       "52064"
      ]
     },
     "execution_count": 246,
     "metadata": {},
     "output_type": "execute_result"
    }
   ],
   "source": [
    "#list(airport_df.name.unique())\n",
    "#list(airport_df)\n",
    "#airport_df.groupby('iso_country').municipality.nunique()\n",
    "airport_df.name.nunique()#nunique gives unique counts"
   ]
  },
  {
   "cell_type": "code",
   "execution_count": 252,
   "metadata": {},
   "outputs": [
    {
     "data": {
      "text/plain": [
       "243"
      ]
     },
     "execution_count": 252,
     "metadata": {},
     "output_type": "execute_result"
    }
   ],
   "source": [
    "airport_df.iso_country.nunique()"
   ]
  },
  {
   "cell_type": "code",
   "execution_count": 263,
   "metadata": {},
   "outputs": [
    {
     "data": {
      "text/plain": [
       "id                   54995\n",
       "ident                54995\n",
       "type                 54995\n",
       "name                 54995\n",
       "latitude_deg         54995\n",
       "longitude_deg        54995\n",
       "elevation_ft         48012\n",
       "continent            27319\n",
       "iso_country          54748\n",
       "iso_region           54995\n",
       "municipality         49355\n",
       "scheduled_service    54995\n",
       "gps_code             41036\n",
       "iata_code             9178\n",
       "local_code           28683\n",
       "home_link             2960\n",
       "wikipedia_link        9829\n",
       "keywords              9132\n",
       "dtype: int64"
      ]
     },
     "execution_count": 263,
     "metadata": {},
     "output_type": "execute_result"
    }
   ],
   "source": [
    "airport_df.count()"
   ]
  },
  {
   "cell_type": "code",
   "execution_count": 260,
   "metadata": {},
   "outputs": [
    {
     "data": {
      "text/plain": [
       "(54995, 18)"
      ]
     },
     "execution_count": 260,
     "metadata": {},
     "output_type": "execute_result"
    }
   ],
   "source": [
    "#Find the number of rows and columns in a dataframe\n",
    "airport_df.shape"
   ]
  },
  {
   "cell_type": "code",
   "execution_count": 264,
   "metadata": {},
   "outputs": [
    {
     "data": {
      "text/plain": [
       "id                   54995\n",
       "ident                54995\n",
       "type                     7\n",
       "name                 52064\n",
       "latitude_deg         52782\n",
       "longitude_deg        53227\n",
       "elevation_ft          5449\n",
       "continent                6\n",
       "iso_country            243\n",
       "iso_region            2809\n",
       "municipality         27102\n",
       "scheduled_service        2\n",
       "gps_code             40848\n",
       "iata_code             9032\n",
       "local_code           27423\n",
       "home_link             2941\n",
       "wikipedia_link        9745\n",
       "keywords              8884\n",
       "dtype: int64"
      ]
     },
     "execution_count": 264,
     "metadata": {},
     "output_type": "execute_result"
    }
   ],
   "source": [
    "#Find number of distinct values of every field in a dataframe\n",
    "airport_df.nunique()"
   ]
  },
  {
   "cell_type": "code",
   "execution_count": 267,
   "metadata": {},
   "outputs": [
    {
     "data": {
      "text/plain": [
       "continent\n",
       "AF    6\n",
       "AN    3\n",
       "AS    6\n",
       "EU    7\n",
       "OC    6\n",
       "SA    6\n",
       "Name: type, dtype: int64"
      ]
     },
     "execution_count": 267,
     "metadata": {},
     "output_type": "execute_result"
    }
   ],
   "source": [
    "#table.groupby('YEARMONTH').CLIENTCODE.nunique()\n",
    "airport_df.groupby('continent').type.nunique()"
   ]
  },
  {
   "cell_type": "code",
   "execution_count": 268,
   "metadata": {},
   "outputs": [
    {
     "data": {
      "text/plain": [
       "small_airport     33962\n",
       "heliport          11272\n",
       "medium_airport     4548\n",
       "closed             3551\n",
       "seaplane_base      1015\n",
       "large_airport       624\n",
       "balloonport          23\n",
       "Name: type, dtype: int64"
      ]
     },
     "execution_count": 268,
     "metadata": {},
     "output_type": "execute_result"
    }
   ],
   "source": [
    "airport_df['type'].value_counts()"
   ]
  },
  {
   "cell_type": "code",
   "execution_count": 269,
   "metadata": {},
   "outputs": [
    {
     "data": {
      "text/plain": [
       "7"
      ]
     },
     "execution_count": 269,
     "metadata": {},
     "output_type": "execute_result"
    }
   ],
   "source": [
    "airport_df['type'].nunique()"
   ]
  },
  {
   "cell_type": "code",
   "execution_count": 270,
   "metadata": {},
   "outputs": [
    {
     "data": {
      "text/html": [
       "<div>\n",
       "<style scoped>\n",
       "    .dataframe tbody tr th:only-of-type {\n",
       "        vertical-align: middle;\n",
       "    }\n",
       "\n",
       "    .dataframe tbody tr th {\n",
       "        vertical-align: top;\n",
       "    }\n",
       "\n",
       "    .dataframe thead th {\n",
       "        text-align: right;\n",
       "    }\n",
       "</style>\n",
       "<table border=\"1\" class=\"dataframe\">\n",
       "  <thead>\n",
       "    <tr style=\"text-align: right;\">\n",
       "      <th></th>\n",
       "      <th>0</th>\n",
       "      <th>1</th>\n",
       "      <th>2</th>\n",
       "      <th>3</th>\n",
       "      <th>4</th>\n",
       "    </tr>\n",
       "  </thead>\n",
       "  <tbody>\n",
       "    <tr>\n",
       "      <th>0</th>\n",
       "      <td>nan</td>\n",
       "      <td>NaN</td>\n",
       "      <td>nan</td>\n",
       "      <td>nan</td>\n",
       "      <td>nan</td>\n",
       "    </tr>\n",
       "    <tr>\n",
       "      <th>1</th>\n",
       "      <td>nan</td>\n",
       "      <td>NaN</td>\n",
       "      <td>nan</td>\n",
       "      <td>nan</td>\n",
       "      <td>nan</td>\n",
       "    </tr>\n",
       "  </tbody>\n",
       "</table>\n",
       "</div>"
      ],
      "text/plain": [
       "    0    1   2   3   4\n",
       "0 nan  NaN nan nan nan\n",
       "1 nan  NaN nan nan nan"
      ]
     },
     "execution_count": 270,
     "metadata": {},
     "output_type": "execute_result"
    }
   ],
   "source": [
    "#Live England Vs. West Indies Test Score\n",
    "eng_wi_url = pd.read_html(\"http://www.espncricinfo.com/series/18913/game/1158064/west-indies-vs-england-3rd-test-england-tour-of-wi-2018-19\")\n",
    "df_eng_wi = eng_wi_url[3]\n",
    "df_eng_wi.head(2)"
   ]
  },
  {
   "cell_type": "code",
   "execution_count": 321,
   "metadata": {},
   "outputs": [
    {
     "data": {
      "text/html": [
       "<div>\n",
       "<style scoped>\n",
       "    .dataframe tbody tr th:only-of-type {\n",
       "        vertical-align: middle;\n",
       "    }\n",
       "\n",
       "    .dataframe tbody tr th {\n",
       "        vertical-align: top;\n",
       "    }\n",
       "\n",
       "    .dataframe thead th {\n",
       "        text-align: right;\n",
       "    }\n",
       "</style>\n",
       "<table border=\"1\" class=\"dataframe\">\n",
       "  <thead>\n",
       "    <tr style=\"text-align: right;\">\n",
       "      <th></th>\n",
       "      <th>Decades</th>\n",
       "    </tr>\n",
       "  </thead>\n",
       "  <tbody>\n",
       "    <tr>\n",
       "      <th>0</th>\n",
       "      <td>1900s</td>\n",
       "    </tr>\n",
       "    <tr>\n",
       "      <th>1</th>\n",
       "      <td>1910s</td>\n",
       "    </tr>\n",
       "    <tr>\n",
       "      <th>2</th>\n",
       "      <td>1920s</td>\n",
       "    </tr>\n",
       "  </tbody>\n",
       "</table>\n",
       "</div>"
      ],
      "text/plain": [
       "  Decades\n",
       "0   1900s\n",
       "1   1910s\n",
       "2   1920s"
      ]
     },
     "execution_count": 321,
     "metadata": {},
     "output_type": "execute_result"
    }
   ],
   "source": [
    "df_table1.iloc[:,0:1].head(3)"
   ]
  },
  {
   "cell_type": "code",
   "execution_count": null,
   "metadata": {},
   "outputs": [],
   "source": []
  }
 ],
 "metadata": {
  "kernelspec": {
   "display_name": "Python 3",
   "language": "python",
   "name": "python3"
  },
  "language_info": {
   "codemirror_mode": {
    "name": "ipython",
    "version": 3
   },
   "file_extension": ".py",
   "mimetype": "text/x-python",
   "name": "python",
   "nbconvert_exporter": "python",
   "pygments_lexer": "ipython3",
   "version": "3.7.3"
  },
  "toc": {
   "base_numbering": 1,
   "nav_menu": {},
   "number_sections": true,
   "sideBar": true,
   "skip_h1_title": false,
   "title_cell": "Table of Contents",
   "title_sidebar": "Contents",
   "toc_cell": false,
   "toc_position": {},
   "toc_section_display": true,
   "toc_window_display": true
  }
 },
 "nbformat": 4,
 "nbformat_minor": 2
}
